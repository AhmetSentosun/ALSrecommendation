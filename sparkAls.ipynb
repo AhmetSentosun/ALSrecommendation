{
  "cells": [
    {
      "cell_type": "code",
      "source": [
        "!pip install pyspark"
      ],
      "metadata": {
        "colab": {
          "base_uri": "https://localhost:8080/"
        },
        "id": "t1UWJVBZ9mqT",
        "outputId": "b757516b-c79d-440e-d663-c81e4edf0e9b"
      },
      "id": "t1UWJVBZ9mqT",
      "execution_count": null,
      "outputs": [
        {
          "output_type": "stream",
          "name": "stdout",
          "text": [
            "Looking in indexes: https://pypi.org/simple, https://us-python.pkg.dev/colab-wheels/public/simple/\n",
            "Requirement already satisfied: pyspark in /usr/local/lib/python3.8/dist-packages (3.3.1)\n",
            "Requirement already satisfied: py4j==0.10.9.5 in /usr/local/lib/python3.8/dist-packages (from pyspark) (0.10.9.5)\n"
          ]
        }
      ]
    },
    {
      "cell_type": "code",
      "execution_count": null,
      "id": "aff63afe",
      "metadata": {
        "id": "aff63afe"
      },
      "outputs": [],
      "source": [
        "from pyspark import SparkContext, SparkConf\n",
        "from pyspark.sql import SparkSession \n",
        "import pyspark.sql.functions as func\n",
        "from string import punctuation as punc\n",
        "from string import digits\n",
        "import socket\n",
        "import urllib, json\n",
        "import time\n",
        "import pandas as pd\n",
        "import seaborn as sns\n",
        "import matplotlib.pyplot as plt\n",
        "import numpy as np\n",
        "sns.set(style=\"darkgrid\")\n",
        "plt.style.use(\"seaborn-pastel\")"
      ]
    },
    {
      "cell_type": "code",
      "execution_count": null,
      "id": "259b2a4c",
      "metadata": {
        "id": "259b2a4c"
      },
      "outputs": [],
      "source": [
        "conf = SparkConf().setAppName(\"Term_Project\")\n",
        "sc = SparkContext(conf=conf)\n",
        "spark = SparkSession(sc)"
      ]
    },
    {
      "cell_type": "code",
      "execution_count": null,
      "id": "11a9a41d",
      "metadata": {
        "colab": {
          "base_uri": "https://localhost:8080/"
        },
        "id": "11a9a41d",
        "outputId": "c7ebb461-f323-45ba-fa7e-7c46035333e5"
      },
      "outputs": [
        {
          "output_type": "stream",
          "name": "stdout",
          "text": [
            "Number of movies:  9066\n",
            "Number of rows:  100004\n"
          ]
        }
      ],
      "source": [
        "df_ratings = spark.read.format(\"csv\").options(header=True,inferSchema=True).load(\"./ratings_small.csv\")\n",
        "#df_ratings = pd.read_csv(\"./data.tsv\",sep=\"\\t\",low_memory=False, na_values=[\"\\\\N\",\"nan\"])\n",
        "number_of_movies = df_ratings.select('movieId').distinct().collect()\n",
        "print(\"Number of movies: \",len(number_of_movies))\n",
        "print(\"Number of rows: \",df_ratings.count()) # number of rows"
      ]
    },
    {
      "cell_type": "code",
      "execution_count": null,
      "id": "e614f7c7",
      "metadata": {
        "colab": {
          "base_uri": "https://localhost:8080/"
        },
        "id": "e614f7c7",
        "outputId": "01245c1a-c5c1-42aa-9fb7-3b6d264603ef"
      },
      "outputs": [
        {
          "output_type": "stream",
          "name": "stdout",
          "text": [
            "root\n",
            " |-- userId: integer (nullable = true)\n",
            " |-- movieId: integer (nullable = true)\n",
            " |-- rating: double (nullable = true)\n",
            " |-- timestamp: integer (nullable = true)\n",
            "\n"
          ]
        }
      ],
      "source": [
        "df_ratings.printSchema()"
      ]
    },
    {
      "cell_type": "code",
      "execution_count": null,
      "id": "e9482a70",
      "metadata": {
        "colab": {
          "base_uri": "https://localhost:8080/"
        },
        "id": "e9482a70",
        "outputId": "270d0dd9-3a1f-4661-d455-b5d91140aac9"
      },
      "outputs": [
        {
          "output_type": "stream",
          "name": "stdout",
          "text": [
            "+------+-------+------+----------+\n",
            "|userId|movieId|rating| timestamp|\n",
            "+------+-------+------+----------+\n",
            "|     1|     31|   2.5|1260759144|\n",
            "|     1|   1029|   3.0|1260759179|\n",
            "|     1|   1061|   3.0|1260759182|\n",
            "|     1|   1129|   2.0|1260759185|\n",
            "|     1|   1172|   4.0|1260759205|\n",
            "+------+-------+------+----------+\n",
            "only showing top 5 rows\n",
            "\n"
          ]
        }
      ],
      "source": [
        "df_ratings.show(5)"
      ]
    },
    {
      "cell_type": "code",
      "execution_count": null,
      "id": "837fdfcd",
      "metadata": {
        "colab": {
          "base_uri": "https://localhost:8080/",
          "height": 299
        },
        "id": "837fdfcd",
        "outputId": "1629dc58-42e0-4979-f2b9-92c31e842e11"
      },
      "outputs": [
        {
          "output_type": "display_data",
          "data": {
            "text/plain": [
              "<Figure size 432x288 with 1 Axes>"
            ],
            "image/png": "[encoded data removed]"
          },
          "metadata": {}
        }
      ],
      "source": [
        "ratings = df_ratings.select('rating').collect()\n",
        "ratings_list = [ratings[i][0] for i in range(len(ratings))]\n",
        "bin_edges = np.arange(0.5, 5.5, step=0.5)\n",
        "\n",
        "plt.hist(ratings_list, bins=bin_edges,\n",
        "         histtype='bar', color='steelblue',align='right')\n",
        "plt.title(\"Rating Frequencies\")\n",
        "plt.ylabel('Frequency')\n",
        "plt.xlabel('Rating')\n",
        "plt.style.use('seaborn-white')"
      ]
    },
    {
      "cell_type": "code",
      "source": [
        "film_count = df_ratings.groupby('movieId').count()\n",
        "film_count.orderBy(func.col('count').desc()).show(10)\n",
        "top_movies = film_count.orderBy(func.col('count').desc()).take(10)\n",
        "\n",
        "movie_list = [top_movies[i][0] for i in range(len(top_movies))]\n",
        "value_hist = [top_movies[i][1] for i in range(len(top_movies))]\n",
        "\n",
        "movie_list = [str(i) for i in movie_list]\n",
        "\n",
        "y_pos = np.arange(len(value_hist))\n",
        "\n",
        "plt.bar(movie_list, value_hist, align='center', width=0.8)\n",
        "\n",
        "plt.title(\"Most Rated Movies\")\n",
        "plt.ylabel('Rating Frequency')\n",
        "plt.xlabel('Movie ID')\n",
        "plt.style.use('seaborn-white')\n",
        "plt.show()"
      ],
      "metadata": {
        "colab": {
          "base_uri": "https://localhost:8080/",
          "height": 571
        },
        "id": "rh17JYZ-0mcJ",
        "outputId": "9889312c-db76-496f-a9c3-dab41c857636"
      },
      "id": "rh17JYZ-0mcJ",
      "execution_count": null,
      "outputs": [
        {
          "output_type": "stream",
          "name": "stdout",
          "text": [
            "+-------+-----+\n",
            "|movieId|count|\n",
            "+-------+-----+\n",
            "|    356|  341|\n",
            "|    296|  324|\n",
            "|    318|  311|\n",
            "|    593|  304|\n",
            "|    260|  291|\n",
            "|    480|  274|\n",
            "|   2571|  259|\n",
            "|      1|  247|\n",
            "|    527|  244|\n",
            "|    589|  237|\n",
            "+-------+-----+\n",
            "only showing top 10 rows\n",
            "\n"
          ]
        },
        {
          "output_type": "display_data",
          "data": {
            "text/plain": [
              "<Figure size 432x288 with 1 Axes>"
            ],
            "image/png": "[encoded data removed]"
          },
          "metadata": {}
        }
      ]
    },
    {
      "cell_type": "code",
      "execution_count": null,
      "id": "5a579b37",
      "metadata": {
        "colab": {
          "base_uri": "https://localhost:8080/"
        },
        "id": "5a579b37",
        "outputId": "10a94ea3-1eb3-4be0-df56-2de72d64a76f"
      },
      "outputs": [
        {
          "output_type": "stream",
          "name": "stdout",
          "text": [
            "+------+-------+------+----------+-------------+------------+\n",
            "|userId|movieId|rating| timestamp|movieId_index|userId_index|\n",
            "+------+-------+------+----------+-------------+------------+\n",
            "|     1|     31|   2.5|1260759144|        578.0|       643.0|\n",
            "|     1|   1029|   3.0|1260759179|        566.0|       643.0|\n",
            "|     1|   1061|   3.0|1260759182|        742.0|       643.0|\n",
            "|     1|   1129|   2.0|1260759185|        472.0|       643.0|\n",
            "|     1|   1172|   4.0|1260759205|        499.0|       643.0|\n",
            "+------+-------+------+----------+-------------+------------+\n",
            "only showing top 5 rows\n",
            "\n"
          ]
        }
      ],
      "source": [
        "from pyspark.ml.feature import StringIndexer\n",
        "from pyspark.ml import Pipeline\n",
        "indexer = [StringIndexer(inputCol=column, outputCol=column+\"_index\") for column in ['movieId', 'userId']]\n",
        "pipeline = Pipeline(stages=indexer)\n",
        "transformed = pipeline.fit(df_ratings).transform(df_ratings)\n",
        "transformed.show(5)"
      ]
    },
    {
      "cell_type": "code",
      "execution_count": null,
      "id": "df3e913f",
      "metadata": {
        "id": "df3e913f"
      },
      "outputs": [],
      "source": [
        "from pyspark.ml.evaluation import RegressionEvaluator\n",
        "from pyspark.ml.recommendation import ALS\n",
        "\n",
        "(training_data, test_data) = transformed.randomSplit([0.7,0.3],seed=221805079)"
      ]
    },
    {
      "cell_type": "code",
      "execution_count": null,
      "id": "50c87dfa",
      "metadata": {
        "colab": {
          "base_uri": "https://localhost:8080/"
        },
        "id": "50c87dfa",
        "outputId": "861f478b-defd-48f2-da1f-be33d5e0eaf9"
      },
      "outputs": [
        {
          "output_type": "execute_result",
          "data": {
            "text/plain": [
              "[Row(userId=1, movieId=1061, rating=3.0, timestamp=1260759182, movieId_index=742.0, userId_index=643.0, newPrediction=2.303687334060669),\n",
              " Row(userId=1, movieId=1287, rating=2.0, timestamp=1260759187, movieId_index=501.0, userId_index=643.0, newPrediction=3.388643980026245),\n",
              " Row(userId=1, movieId=1953, rating=4.0, timestamp=1260759191, movieId_index=504.0, userId_index=643.0, newPrediction=2.8004086017608643),\n",
              " Row(userId=1, movieId=2105, rating=4.0, timestamp=1260759139, movieId_index=492.0, userId_index=643.0, newPrediction=4.007463455200195),\n",
              " Row(userId=1, movieId=2193, rating=2.0, timestamp=1260759198, movieId_index=574.0, userId_index=643.0, newPrediction=2.1552393436431885)]"
            ]
          },
          "metadata": {},
          "execution_count": 12
        }
      ],
      "source": [
        "als = ALS(rank=10, maxIter=10, regParam=0.01, userCol=\"userId\", itemCol=\"movieId\", ratingCol=\"rating\")\n",
        "model=als.fit(training_data)\n",
        "model.setPredictionCol(\"newPrediction\")\n",
        "predictions = sorted(model.transform(test_data).collect(), key=lambda r: r[0])\n",
        "predictions[:5]"
      ]
    },
    {
      "cell_type": "code",
      "source": [
        "user_recs = model.recommendForAllUsers(5)\n",
        "user_recs.where(user_recs.userId == 1).select(\"recommendations.movieId\", \"recommendations.rating\").collect()"
      ],
      "metadata": {
        "colab": {
          "base_uri": "https://localhost:8080/"
        },
        "id": "t1bqW4P5BPLF",
        "outputId": "112d85c7-ff6c-43ec-a243-784c8ee39995"
      },
      "id": "t1bqW4P5BPLF",
      "execution_count": null,
      "outputs": [
        {
          "output_type": "execute_result",
          "data": {
            "text/plain": [
              "[Row(movieId=[940, 101, 3685, 537, 48304], rating=[6.467855930328369, 6.273975372314453, 5.806005954742432, 5.665717601776123, 5.50349235534668])]"
            ]
          },
          "metadata": {},
          "execution_count": 48
        }
      ]
    },
    {
      "cell_type": "code",
      "source": [
        "item_recs = model.recommendForAllItems(5)\n",
        "item_recs.where(item_recs.movieId == 1029).select(\"recommendations.userId\", \"recommendations.rating\").collect()"
      ],
      "metadata": {
        "colab": {
          "base_uri": "https://localhost:8080/"
        },
        "id": "CvYPbvlZDV7N",
        "outputId": "49b85513-d9ee-44f5-d39f-3bf31b162c7b"
      },
      "id": "CvYPbvlZDV7N",
      "execution_count": null,
      "outputs": [
        {
          "output_type": "execute_result",
          "data": {
            "text/plain": [
              "[Row(userId=[354, 568, 107, 415, 65], rating=[7.6388678550720215, 7.306838512420654, 7.088927268981934, 6.800437927246094, 6.76910400390625])]"
            ]
          },
          "metadata": {},
          "execution_count": 49
        }
      ]
    },
    {
      "cell_type": "code",
      "execution_count": null,
      "id": "237b6a81",
      "metadata": {
        "colab": {
          "base_uri": "https://localhost:8080/"
        },
        "id": "237b6a81",
        "outputId": "37ac99bf-e79e-44cb-bfd7-04dbf2c8434f"
      },
      "outputs": [
        {
          "output_type": "stream",
          "name": "stdout",
          "text": [
            "+------+-------+------+----------+-------------+------------+-------------+\n",
            "|userId|movieId|rating| timestamp|movieId_index|userId_index|newPrediction|\n",
            "+------+-------+------+----------+-------------+------------+-------------+\n",
            "|     1|   2294|   2.0|1260759108|        398.0|       643.0|     4.069503|\n",
            "|     1|   1953|   4.0|1260759191|        504.0|       643.0|    2.8004086|\n",
            "|     1|   2193|   2.0|1260759198|        574.0|       643.0|    2.1552393|\n",
            "|     1|   2105|   4.0|1260759139|        492.0|       643.0|    4.0074635|\n",
            "|     1|   1061|   3.0|1260759182|        742.0|       643.0|    2.3036873|\n",
            "|     1|   1287|   2.0|1260759187|        501.0|       643.0|     3.388644|\n",
            "|     2|    588|   3.0| 835355441|         18.0|       314.0|    3.4994683|\n",
            "|     2|    296|   4.0| 835355395|          1.0|       314.0|    4.0497346|\n",
            "|     2|     47|   4.0| 835355552|         22.0|       314.0|    3.3070927|\n",
            "|     2|    185|   3.0| 835355511|        145.0|       314.0|    3.2465348|\n",
            "+------+-------+------+----------+-------------+------------+-------------+\n",
            "only showing top 10 rows\n",
            "\n"
          ]
        }
      ],
      "source": [
        "predictions = model.transform(test_data)\n",
        "# Remove NaN values from prediction (due to SPARK-14489)\n",
        "predictions = predictions.filter(predictions.newPrediction != float('nan'))\n",
        "predictions.sort(\"userId\").show(10)"
      ]
    },
    {
      "cell_type": "code",
      "execution_count": null,
      "id": "19b10bfc",
      "metadata": {
        "colab": {
          "base_uri": "https://localhost:8080/"
        },
        "id": "19b10bfc",
        "outputId": "1921c471-9ebe-4e4e-e23e-8b78c235cecb"
      },
      "outputs": [
        {
          "output_type": "stream",
          "name": "stdout",
          "text": [
            "RMSE=1.2055676525058612\n"
          ]
        }
      ],
      "source": [
        "evaluator=RegressionEvaluator(metricName=\"rmse\",labelCol=\"rating\",predictionCol=\"newPrediction\")\n",
        "rmse=evaluator.evaluate(predictions)\n",
        "print(\"RMSE=\"+str(rmse))\n"
      ]
    },
    {
      "cell_type": "code",
      "execution_count": null,
      "id": "a1ce50ed",
      "metadata": {
        "colab": {
          "base_uri": "https://localhost:8080/"
        },
        "id": "a1ce50ed",
        "outputId": "86202586-5df3-440a-fe70-6ec120fd5d74"
      },
      "outputs": [
        {
          "output_type": "stream",
          "name": "stdout",
          "text": [
            "MSE=1.4533933647684973\n"
          ]
        }
      ],
      "source": [
        "evaluator2=RegressionEvaluator(metricName=\"mse\",labelCol=\"rating\",predictionCol=\"newPrediction\")\n",
        "mse=evaluator2.evaluate(predictions)\n",
        "print(\"MSE=\"+str(mse))"
      ]
    },
    {
      "cell_type": "code",
      "execution_count": null,
      "id": "553ea2bb",
      "metadata": {
        "scrolled": true,
        "id": "553ea2bb"
      },
      "outputs": [],
      "source": [
        "from pyspark.sql.functions import col\n",
        "test = model.recommendForAllUsers(20).filter(col('userId')== 3).select(\"recommendations\").collect()\n"
      ]
    },
    {
      "cell_type": "code",
      "execution_count": null,
      "id": "7e938556",
      "metadata": {
        "colab": {
          "base_uri": "https://localhost:8080/"
        },
        "id": "7e938556",
        "outputId": "6e4c3dc7-a097-4d42-d6a7-5cc3c2c857a8"
      },
      "outputs": [
        {
          "output_type": "stream",
          "name": "stdout",
          "text": [
            "7.371940612792969\n",
            "6.887637138366699\n",
            "6.798018455505371\n",
            "6.539734840393066\n",
            "6.355097770690918\n",
            "6.352230548858643\n",
            "6.3454718589782715\n",
            "6.339486122131348\n",
            "6.224285125732422\n",
            "6.175490379333496\n",
            "6.069018363952637\n",
            "6.057767391204834\n",
            "6.042905807495117\n",
            "6.034675598144531\n",
            "5.988088130950928\n",
            "5.937519550323486\n",
            "5.926024436950684\n",
            "5.894972801208496\n",
            "5.859776020050049\n",
            "5.835057735443115\n"
          ]
        }
      ],
      "source": [
        "for item in test[0][0]:\n",
        "    print(item.rating)"
      ]
    },
    {
      "cell_type": "code",
      "execution_count": null,
      "id": "5d5dbac4",
      "metadata": {
        "colab": {
          "base_uri": "https://localhost:8080/"
        },
        "id": "5d5dbac4",
        "outputId": "77d8e21d-b027-4d92-bb78-8e68926101b5"
      },
      "outputs": [
        {
          "output_type": "stream",
          "name": "stdout",
          "text": [
            "+-------+------+------+-------------+\n",
            "|movieId|userId|rating|movieId_index|\n",
            "+-------+------+------+-------------+\n",
            "|      1|    48|   4.0|          7.0|\n",
            "|      2|    48|   3.5|        125.0|\n",
            "|     34|    48|   3.0|         54.0|\n",
            "|    110|    48|   4.0|         11.0|\n",
            "|    111|    48|   3.0|        101.0|\n",
            "|    158|    48|   3.0|        358.0|\n",
            "|    163|    48|   3.5|        311.0|\n",
            "|    223|    48|   2.5|        121.0|\n",
            "|    231|    48|   3.5|         47.0|\n",
            "|    288|    48|   3.5|        128.0|\n",
            "|    293|    48|   5.0|         71.0|\n",
            "|    296|    48|   4.5|          1.0|\n",
            "|    344|    48|   3.5|         38.0|\n",
            "|    356|    48|   4.0|          0.0|\n",
            "|    364|    48|   4.0|         25.0|\n",
            "|    367|    48|   3.5|         49.0|\n",
            "|    480|    48|   3.5|          5.0|\n",
            "|    501|    48|   3.5|       1617.0|\n",
            "|    527|    48|   4.5|          8.0|\n",
            "|    541|    48|   4.0|         58.0|\n",
            "|    562|    48|   3.5|        842.0|\n",
            "|    593|    48|   3.5|          3.0|\n",
            "|    595|    48|   3.5|         36.0|\n",
            "|    648|    48|   3.5|         40.0|\n",
            "|    673|    48|   3.0|        451.0|\n",
            "|    741|    48|   4.0|        945.0|\n",
            "|    778|    48|   4.5|         89.0|\n",
            "|    784|    48|   2.5|        355.0|\n",
            "|    858|    48|   4.0|         27.0|\n",
            "|    924|    48|   4.5|         91.0|\n",
            "|   1097|    48|   3.5|         45.0|\n",
            "|   1127|    48|   3.5|        259.0|\n",
            "|   1148|    48|   3.5|        236.0|\n",
            "|   1175|    48|   4.0|        822.0|\n",
            "|   1185|    48|   4.0|        886.0|\n",
            "|   1206|    48|   3.5|         95.0|\n",
            "|   1214|    48|   3.5|         78.0|\n",
            "|   1222|    48|   3.5|        138.0|\n",
            "|   1240|    48|   3.5|         46.0|\n",
            "|   1258|    48|   4.0|        146.0|\n",
            "|   1270|    48|   3.5|         12.0|\n",
            "|   1274|    48|   3.5|        724.0|\n",
            "|   1293|    48|   4.0|        502.0|\n",
            "|   1407|    48|   2.5|        249.0|\n",
            "|   1485|    48|   3.5|        260.0|\n",
            "|   1499|    48|   2.5|        890.0|\n",
            "|   1527|    48|   3.5|        102.0|\n",
            "|   1544|    48|   3.5|        283.0|\n",
            "|   1580|    48|   3.5|         33.0|\n",
            "|   1591|    48|   3.0|       1575.0|\n",
            "|   1676|    48|   3.0|        255.0|\n",
            "|   1682|    48|   3.5|         65.0|\n",
            "|   1721|    48|   4.0|         42.0|\n",
            "|   1732|    48|   3.5|         98.0|\n",
            "|   1784|    48|   4.5|        151.0|\n",
            "|   1882|    48|   3.0|        891.0|\n",
            "|   1884|    48|   4.5|        536.0|\n",
            "|   1917|    48|   3.5|        111.0|\n",
            "|   1921|    48|   4.0|        602.0|\n",
            "|   1923|    48|   3.5|         90.0|\n",
            "|   1997|    48|   3.5|        305.0|\n",
            "|   2006|    48|   3.0|        384.0|\n",
            "|   2167|    48|   3.5|        359.0|\n",
            "|   2232|    48|   3.5|       1201.0|\n",
            "|   2288|    48|   3.5|        748.0|\n",
            "|   2291|    48|   4.0|        182.0|\n",
            "|   2294|    48|   3.0|        398.0|\n",
            "|   2318|    48|   3.5|       1084.0|\n",
            "|   2324|    48|   4.5|        153.0|\n",
            "|   2329|    48|   4.5|        126.0|\n",
            "|   2355|    48|   3.5|        134.0|\n",
            "|   2455|    48|   2.5|        494.0|\n",
            "|   2542|    48|   3.5|        246.0|\n",
            "|   2571|    48|   4.5|          6.0|\n",
            "|   2617|    48|   3.5|        219.0|\n",
            "|   2692|    48|   3.0|        215.0|\n",
            "|   2700|    48|   3.5|        239.0|\n",
            "|   2706|    48|   3.5|        116.0|\n",
            "|   2710|    48|   3.0|        191.0|\n",
            "|   2722|    48|   2.5|        730.0|\n",
            "|   2762|    48|   3.5|         31.0|\n",
            "|   2840|    48|   3.0|       1039.0|\n",
            "|   2959|    48|   5.0|         20.0|\n",
            "|   2987|    48|   3.5|        123.0|\n",
            "|   2997|    48|   3.0|         80.0|\n",
            "|   3000|    48|   5.0|        642.0|\n",
            "|   3114|    48|   3.5|         86.0|\n",
            "|   3147|    48|   4.0|        143.0|\n",
            "|   3527|    48|   3.0|        401.0|\n",
            "|   3578|    48|   5.0|         44.0|\n",
            "|   3677|    48|   4.5|       2490.0|\n",
            "|   3717|    48|   3.0|        379.0|\n",
            "|   3745|    48|   3.5|       1096.0|\n",
            "|   3751|    48|   3.0|        154.0|\n",
            "|   3793|    48|   3.5|         79.0|\n",
            "|   3949|    48|   4.5|        273.0|\n",
            "|   3968|    48|   3.0|       1469.0|\n",
            "|   4011|    48|   4.0|        163.0|\n",
            "|   4016|    48|   3.5|        782.0|\n",
            "|   4022|    48|   3.5|        159.0|\n",
            "|   4226|    48|   3.5|         72.0|\n",
            "|   4270|    48|   3.0|        783.0|\n",
            "|   4306|    48|   4.0|         39.0|\n",
            "|   4369|    48|   3.5|        609.0|\n",
            "|   4446|    48|   3.5|       1347.0|\n",
            "|   4720|    48|   3.0|        465.0|\n",
            "|   4878|    48|   4.5|        169.0|\n",
            "|   4886|    48|   3.5|         74.0|\n",
            "|   4902|    48|   3.5|       3796.0|\n",
            "|   4973|    48|   5.0|         87.0|\n",
            "|   4975|    48|   3.5|        671.0|\n",
            "|   4993|    48|   4.5|         26.0|\n",
            "|   4995|    48|   4.0|        110.0|\n",
            "|   5010|    48|   4.0|        466.0|\n",
            "|   5146|    48|   4.0|       2042.0|\n",
            "|   5218|    48|   4.0|        315.0|\n",
            "|   5225|    48|   3.0|        977.0|\n",
            "|   5349|    48|   3.5|         68.0|\n",
            "|   5459|    48|   3.0|        467.0|\n",
            "|   5502|    48|   3.5|        395.0|\n",
            "|   5570|    48|   3.5|       5496.0|\n",
            "|   5618|    48|   4.5|        316.0|\n",
            "|   5669|    48|   4.0|        362.0|\n",
            "|   5679|    48|   3.5|        483.0|\n",
            "|   5690|    48|   4.5|       1711.0|\n",
            "|   5902|    48|   4.0|        585.0|\n",
            "|   5903|    48|   3.5|        718.0|\n",
            "|   5952|    48|   4.0|         34.0|\n",
            "|   5971|    48|   4.0|        981.0|\n",
            "|   5995|    48|   4.0|        334.0|\n",
            "|   6016|    48|   4.5|        275.0|\n",
            "|   6214|    48|   3.5|       3012.0|\n",
            "|   6223|    48|   3.5|       4572.0|\n",
            "|   6242|    48|   3.0|       1823.0|\n",
            "|   6283|    48|   3.5|       1547.0|\n",
            "|   6291|    48|   3.0|       3389.0|\n",
            "|   6350|    48|   4.0|       1170.0|\n",
            "|   6365|    48|   3.5|        205.0|\n",
            "|   6373|    48|   4.0|        450.0|\n",
            "|   6377|    48|   4.0|         94.0|\n",
            "|   6539|    48|   4.0|         63.0|\n",
            "|   6711|    48|   3.0|        194.0|\n",
            "|   6857|    48|   3.5|       2062.0|\n",
            "|   6890|    48|   3.0|       2223.0|\n",
            "|   6934|    48|   3.0|        396.0|\n",
            "|   6953|    48|   3.5|        845.0|\n",
            "|   7099|    48|   4.0|       1295.0|\n",
            "|   7147|    48|   3.5|        390.0|\n",
            "|   7153|    48|   4.0|         37.0|\n",
            "|   7235|    48|   3.0|       2758.0|\n",
            "|   7254|    48|   4.0|        485.0|\n",
            "|   7256|    48|   4.5|       2231.0|\n",
            "|   7360|    48|   2.5|       1024.0|\n",
            "|   7361|    48|   4.5|        133.0|\n",
            "|   7373|    48|   3.5|        912.0|\n",
            "|   7382|    48|   3.0|       4672.0|\n",
            "|   7982|    48|   4.0|       4714.0|\n",
            "|   8132|    48|   5.0|       2068.0|\n",
            "|   8157|    48|   2.5|       2565.0|\n",
            "|   8360|    48|   3.0|        209.0|\n",
            "|   8376|    48|   3.5|        529.0|\n",
            "|   8582|    48|   4.0|       3470.0|\n",
            "|   8636|    48|   4.0|        199.0|\n",
            "|   8645|    48|   3.0|       1493.0|\n",
            "|   8784|    48|   4.5|        363.0|\n",
            "|   8807|    48|   4.0|       1178.0|\n",
            "|   8874|    48|   4.5|        271.0|\n",
            "|   8906|    48|   2.5|       4019.0|\n",
            "|   8907|    48|   2.5|       2076.0|\n",
            "|   8950|    48|   4.5|       1364.0|\n",
            "|   8957|    48|   3.0|        763.0|\n",
            "|   8961|    48|   3.5|         82.0|\n",
            "|   8965|    48|   3.0|       2784.0|\n",
            "|  26662|    48|   4.0|       1385.0|\n",
            "|  26776|    48|   4.0|       1880.0|\n",
            "|  27156|    48|   4.0|       5058.0|\n",
            "|  27523|    48|   3.5|       5066.0|\n",
            "|  27660|    48|   3.5|       1453.0|\n",
            "|  27713|    48|   4.0|       6880.0|\n",
            "|  27722|    48|   2.5|       6881.0|\n",
            "|  27731|    48|   4.0|       4230.0|\n",
            "|  27773|    48|   3.5|        773.0|\n",
            "|  27800|    48|   3.5|       5074.0|\n",
            "|  27801|    48|   3.0|       2460.0|\n",
            "|  27838|    48|   3.0|       3638.0|\n",
            "|  27846|    48|   4.5|       2461.0|\n",
            "|  27850|    48|   3.5|       3208.0|\n",
            "|  27878|    48|   4.0|       2644.0|\n",
            "|  30793|    48|   3.5|        496.0|\n",
            "|  30867|    48|   4.0|       6950.0|\n",
            "|  31410|    48|   4.5|       1269.0|\n",
            "|  31435|    48|   5.0|       5126.0|\n",
            "|  31658|    48|   4.5|        931.0|\n",
            "|  31878|    48|   3.0|       1336.0|\n",
            "|  32031|    48|   3.0|       1786.0|\n",
            "|  32554|    48|   3.0|       5145.0|\n",
            "|  32562|    48|   4.0|       7030.0|\n",
            "|  32587|    48|   4.5|        216.0|\n",
            "|  33154|    48|   4.0|       2661.0|\n",
            "|  33166|    48|   3.5|        481.0|\n",
            "|  33615|    48|   3.5|        903.0|\n",
            "|  33679|    48|   3.5|        461.0|\n",
            "|  34323|    48|   3.0|       4297.0|\n",
            "|  34405|    48|   3.5|        607.0|\n",
            "|  36276|    48|   2.5|       2919.0|\n",
            "|  36535|    48|   3.5|       2676.0|\n",
            "|  37729|    48|   3.0|       1224.0|\n",
            "|  37830|    48|   3.5|       2492.0|\n",
            "|  38038|    48|   3.5|        905.0|\n",
            "|  40629|    48|   4.5|       1284.0|\n",
            "|  41569|    48|   3.5|       1101.0|\n",
            "|  41769|    48|   3.0|       7267.0|\n",
            "|  42723|    48|   3.0|       2504.0|\n",
            "|  44022|    48|   3.0|       1287.0|\n",
            "|  44191|    48|   3.5|        253.0|\n",
            "|  44397|    48|   2.5|       3293.0|\n",
            "|  44555|    48|   4.5|        668.0|\n",
            "|  44633|    48|   4.0|       3751.0|\n",
            "|  44828|    48|   3.0|       5314.0|\n",
            "|  44974|    48|   3.5|       2952.0|\n",
            "|  45431|    48|   4.0|       1614.0|\n",
            "|  45517|    48|   4.0|       1018.0|\n",
            "|  45720|    48|   3.0|       1231.0|\n",
            "|  45950|    48|   4.0|       1348.0|\n",
            "|  46578|    48|   3.5|        233.0|\n",
            "|  46948|    48|   3.5|       3777.0|\n",
            "|  46976|    48|   3.0|        612.0|\n",
            "|  47099|    48|   3.5|       1053.0|\n",
            "|  47124|    48|   3.0|       3781.0|\n",
            "|  47404|    48|   4.0|       7471.0|\n",
            "|  47610|    48|   4.0|        753.0|\n",
            "|  47999|    48|   4.0|       2962.0|\n",
            "|  48043|    48|   3.5|       1911.0|\n",
            "|  48082|    48|   4.0|       2345.0|\n",
            "|  48385|    48|   3.5|        544.0|\n",
            "|  48394|    48|   4.0|        415.0|\n",
            "|  48414|    48|   3.0|       7508.0|\n",
            "|  48774|    48|   3.0|        564.0|\n",
            "|  48780|    48|   3.5|        416.0|\n",
            "|  48982|    48|   3.5|       2710.0|\n",
            "|  48997|    48|   4.0|       2347.0|\n",
            "|  49278|    48|   3.5|       1812.0|\n",
            "|  50583|    48|   3.0|       7584.0|\n",
            "|  50601|    48|   4.0|       3806.0|\n",
            "|  50872|    48|   3.5|        352.0|\n",
            "|  51255|    48|   3.5|        583.0|\n",
            "|  51540|    48|   3.0|       1290.0|\n",
            "|  51662|    48|   4.0|        353.0|\n",
            "|  52281|    48|   3.5|       1413.0|\n",
            "|  52287|    48|   3.0|       2524.0|\n",
            "|  52319|    48|   4.0|       5446.0|\n",
            "|  52328|    48|   2.5|       2044.0|\n",
            "|  52458|    48|   3.0|       2196.0|\n",
            "|  52722|    48|   3.0|       1108.0|\n",
            "|  53121|    48|   2.5|       1818.0|\n",
            "|  53326|    48|   2.0|       7686.0|\n",
            "|  53460|    48|   3.0|       5462.0|\n",
            "|  53519|    48|   3.0|       1819.0|\n",
            "|  53883|    48|   4.0|       5469.0|\n",
            "|  53894|    48|   4.0|       1915.0|\n",
            "|  53996|    48|   3.5|        815.0|\n",
            "|  54272|    48|   2.5|        672.0|\n",
            "|  54503|    48|   3.5|        545.0|\n",
            "|  54995|    48|   4.0|       1709.0|\n",
            "|  55247|    48|   4.5|        816.0|\n",
            "|  55280|    48|   4.0|       1618.0|\n",
            "|  55442|    48|   4.5|       2360.0|\n",
            "|  55444|    48|   4.5|       3836.0|\n",
            "|  55768|    48|   3.0|       2723.0|\n",
            "|  55814|    48|   4.0|       3363.0|\n",
            "|  55908|    48|   3.5|       2993.0|\n",
            "|  55995|    48|   3.0|       2535.0|\n",
            "|  56069|    48|   2.5|       7781.0|\n",
            "|  56095|    48|   3.0|       7783.0|\n",
            "|  56145|    48|   3.5|       2536.0|\n",
            "|  56174|    48|   3.0|        584.0|\n",
            "|  56339|    48|   4.0|       3840.0|\n",
            "|  56367|    48|   3.5|        256.0|\n",
            "|  56607|    48|   4.0|       5514.0|\n",
            "|  56757|    48|   3.0|       1355.0|\n",
            "|  56782|    48|   3.5|        980.0|\n",
            "|  56908|    48|   4.0|       7809.0|\n",
            "|  57274|    48|   3.5|       4526.0|\n",
            "|  57368|    48|   4.5|       1356.0|\n",
            "|  57453|    48|   3.5|       5528.0|\n",
            "|  57504|    48|   4.0|       2997.0|\n",
            "|  57640|    48|   3.0|       1416.0|\n",
            "|  57669|    48|   4.0|        650.0|\n",
            "|  57980|    48|   3.0|       7847.0|\n",
            "|  58299|    48|   3.5|       2539.0|\n",
            "|  58347|    48|   3.5|       3003.0|\n",
            "|  58554|    48|   3.5|       7872.0|\n",
            "|  58559|    48|   4.0|         97.0|\n",
            "|  59118|    48|   4.5|       4546.0|\n",
            "|  59141|    48|   3.5|       5552.0|\n",
            "|  59315|    48|   4.0|        241.0|\n",
            "|  59387|    48|   4.0|       2055.0|\n",
            "|  59684|    48|   5.0|       7912.0|\n",
            "|  59784|    48|   3.5|        755.0|\n",
            "|  60069|    48|   4.0|        234.0|\n",
            "|  60126|    48|   3.0|       1821.0|\n",
            "|  60161|    48|   3.5|       3380.0|\n",
            "|  60291|    48|   4.0|       7937.0|\n",
            "|  60684|    48|   3.5|        982.0|\n",
            "|  60763|    48|   3.5|       4556.0|\n",
            "|  61240|    48|   4.5|       2366.0|\n",
            "|  61323|    48|   3.5|        843.0|\n",
            "|  62203|    48|   4.5|       5598.0|\n",
            "|  62250|    48|   3.0|       4573.0|\n",
            "|  62956|    48|   3.5|       3016.0|\n",
            "|  62999|    48|   3.5|       2544.0|\n",
            "|  63082|    48|   3.5|        419.0|\n",
            "|  63131|    48|   2.5|       1718.0|\n",
            "|  63808|    48|   3.5|       4592.0|\n",
            "|  63859|    48|   3.5|       2057.0|\n",
            "|  64575|    48|   4.0|       3396.0|\n",
            "|  64716|    48|   4.0|       2059.0|\n",
            "|  64957|    48|   3.5|        844.0|\n",
            "|  64969|    48|   3.0|       1826.0|\n",
            "|  64983|    48|   3.5|       2735.0|\n",
            "|  64993|    48|   4.0|       5647.0|\n",
            "|  65037|    48|   5.0|       8085.0|\n",
            "|  65261|    48|   3.5|       1719.0|\n",
            "|  65514|    48|   4.0|       1926.0|\n",
            "|  66097|    48|   3.5|       1928.0|\n",
            "|  66371|    48|   3.5|       3406.0|\n",
            "|  67197|    48|   3.5|       2737.0|\n",
            "|  67255|    48|   4.0|       1721.0|\n",
            "|  67408|    48|   3.0|       3413.0|\n",
            "|  67734|    48|   3.0|       1722.0|\n",
            "|  68157|    48|   4.0|        354.0|\n",
            "|  68237|    48|   4.0|        911.0|\n",
            "|  68358|    48|   3.0|        440.0|\n",
            "|  68945|    48|   3.5|       8198.0|\n",
            "|  68954|    48|   4.0|        335.0|\n",
            "|  69122|    48|   4.5|        546.0|\n",
            "|  69526|    48|   3.0|       1931.0|\n",
            "|  69644|    48|   3.5|       3037.0|\n",
            "|  69712|    48|   3.5|       3914.0|\n",
            "|  69757|    48|   4.5|        526.0|\n",
            "|  70159|    48|   4.0|       8242.0|\n",
            "|  70286|    48|   4.5|        407.0|\n",
            "|  70533|    48|   4.0|       3432.0|\n",
            "|  70567|    48|   4.0|       5722.0|\n",
            "|  71033|    48|   4.0|       2751.0|\n",
            "|  71057|    48|   3.5|       3043.0|\n",
            "|  71264|    48|   3.5|       2380.0|\n",
            "|  71282|    48|   3.0|       4652.0|\n",
            "|  71379|    48|   4.0|       2754.0|\n",
            "|  71462|    48|   4.0|       3436.0|\n",
            "|  71468|    48|   3.0|       5742.0|\n",
            "|  71520|    48|   3.5|       2755.0|\n",
            "|  71535|    48|   3.5|        674.0|\n",
            "|  71579|    48|   3.5|       3046.0|\n",
            "|  71899|    48|   5.0|       2230.0|\n",
            "|  72104|    48|   3.0|       8334.0|\n",
            "|  72209|    48|   3.0|       3935.0|\n",
            "|  72393|    48|   3.5|       5755.0|\n",
            "|  72731|    48|   3.0|       3937.0|\n",
            "|  72741|    48|   3.5|       8363.0|\n",
            "|  72998|    48|   4.5|        287.0|\n",
            "|  73017|    48|   4.0|        613.0|\n",
            "|  73268|    48|   3.0|       2382.0|\n",
            "|  73321|    48|   3.0|       1488.0|\n",
            "|  73392|    48|   3.5|       8383.0|\n",
            "|  73664|    48|   3.0|       8395.0|\n",
            "|  73881|    48|   4.0|       3942.0|\n",
            "|  74228|    48|   3.5|       3446.0|\n",
            "|  74677|    48|   4.0|       5781.0|\n",
            "|  74789|    48|   3.5|       1296.0|\n",
            "|  76093|    48|   4.0|        760.0|\n",
            "|  76173|    48|   5.0|       5794.0|\n",
            "|  76251|    48|   3.5|        846.0|\n",
            "|  77307|    48|   4.0|       4696.0|\n",
            "|  77427|    48|   1.5|       5803.0|\n",
            "|  77561|    48|   3.5|        880.0|\n",
            "|  77837|    48|   4.5|       5807.0|\n",
            "|  78499|    48|   4.0|        587.0|\n",
            "|  79029|    48|   4.0|       8519.0|\n",
            "|  79091|    48|   4.0|       1556.0|\n",
            "|  79132|    48|   4.0|        118.0|\n",
            "|  79357|    48|   3.5|       4710.0|\n",
            "|  79702|    48|   4.0|        987.0|\n",
            "|  79868|    48|   3.5|       8551.0|\n",
            "|  80463|    48|   4.5|        565.0|\n",
            "|  80586|    48|   3.5|       5846.0|\n",
            "|  80831|    48|   2.5|       3978.0|\n",
            "|  80862|    48|   3.5|       3459.0|\n",
            "|  80906|    48|   4.0|       2235.0|\n",
            "|  81018|    48|   3.5|       8581.0|\n",
            "|  81562|    48|   3.5|       1116.0|\n",
            "|  81564|    48|   3.5|       2069.0|\n",
            "|  81591|    48|   4.0|        738.0|\n",
            "|  81845|    48|   3.5|        614.0|\n",
            "|  81847|    48|   3.5|       1241.0|\n",
            "|  82461|    48|   3.5|       1838.0|\n",
            "|  82667|    48|   3.5|       3988.0|\n",
            "|  83132|    48|   3.5|       3078.0|\n",
            "|  83134|    48|   3.5|       2566.0|\n",
            "|  83803|    48|   3.0|       5880.0|\n",
            "|  84152|    48|   4.0|       1363.0|\n",
            "|  84187|    48|   4.5|       3081.0|\n",
            "|  84772|    48|   2.5|       2570.0|\n",
            "|  84944|    48|   4.0|       2778.0|\n",
            "|  84952|    48|   4.0|       5889.0|\n",
            "|  85412|    48|   3.5|       4000.0|\n",
            "|  85414|    48|   4.0|       1062.0|\n",
            "|  85510|    48|   3.0|       3082.0|\n",
            "|  85736|    48|   4.5|       4001.0|\n",
            "|  85774|    48|   4.0|       2390.0|\n",
            "|  85788|    48|   3.5|       4002.0|\n",
            "|  85796|    48|   3.0|       5899.0|\n",
            "|  86298|    48|   4.0|       3472.0|\n",
            "|  86332|    48|   3.5|       1728.0|\n",
            "|  86347|    48|   3.5|       3087.0|\n",
            "|  86721|    48|   3.0|       8722.0|\n",
            "|  87222|    48|   4.0|       3088.0|\n",
            "|  87232|    48|   4.0|        915.0|\n",
            "|  87306|    48|   2.5|       1943.0|\n",
            "|  87430|    48|   3.0|       2240.0|\n",
            "|  87520|    48|   3.0|       2392.0|\n",
            "|  88140|    48|   2.5|       1179.0|\n",
            "|  88744|    48|   3.5|       1063.0|\n",
            "|  89745|    48|   3.0|        512.0|\n",
            "|  89837|    48|   2.5|       5939.0|\n",
            "|  90469|    48|   3.0|       4777.0|\n",
            "|  90531|    48|   2.5|       2785.0|\n",
            "|  90647|    48|   3.5|       4026.0|\n",
            "|  90746|    48|   3.5|       2786.0|\n",
            "|  91414|    48|   3.0|       8876.0|\n",
            "|  91529|    48|   3.5|        486.0|\n",
            "|  91542|    48|   3.5|        990.0|\n",
            "|  92058|    48|   2.0|       5958.0|\n",
            "|  92420|    48|   2.5|       2241.0|\n",
            "|  93272|    48|   2.5|       5961.0|\n",
            "|  93838|    48|   3.0|       3093.0|\n",
            "|  93840|    48|   2.5|       1846.0|\n",
            "|  95167|    48|   5.0|       1848.0|\n",
            "|  95311|    48|   4.0|       4790.0|\n",
            "|  95375|    48|   3.0|       8947.0|\n",
            "|  95510|    48|   3.0|       1301.0|\n",
            "|  95543|    48|   3.0|       8954.0|\n",
            "|  95858|    48|   4.0|       4034.0|\n",
            "|  95875|    48|   3.0|       2398.0|\n",
            "|  96281|    48|   3.0|       4795.0|\n",
            "|  96606|    48|   3.0|       5984.0|\n",
            "|  96610|    48|   3.0|       1302.0|\n",
            "|  96737|    48|   4.0|       2244.0|\n",
            "|  96821|    48|   4.0|       1734.0|\n",
            "|  97188|    48|   2.5|       5988.0|\n",
            "|  97225|    48|   3.5|       3493.0|\n",
            "|  97752|    48|   4.5|       1735.0|\n",
            "|  97913|    48|   3.5|       1367.0|\n",
            "|  97921|    48|   3.5|       1182.0|\n",
            "|  97938|    48|   3.5|       1183.0|\n",
            "|  97957|    48|   4.0|       5994.0|\n",
            "|  98056|    48|   3.0|       4797.0|\n",
            "|  98243|    48|   2.5|       3495.0|\n",
            "|  98809|    48|   4.0|       1028.0|\n",
            "|  99114|    48|   4.0|        548.0|\n",
            "|  99145|    48|   4.0|       4044.0|\n",
            "| 100556|    48|   4.0|       3497.0|\n",
            "| 101142|    48|   3.5|       3499.0|\n",
            "| 102125|    48|   2.5|       1187.0|\n",
            "| 102445|    48|   4.0|       1247.0|\n",
            "| 103042|    48|   3.5|       1952.0|\n",
            "| 103228|    48|   2.0|       1498.0|\n",
            "| 103249|    48|   2.5|       1499.0|\n",
            "| 103253|    48|   2.0|       1640.0|\n",
            "| 103299|    48|   3.5|       4815.0|\n",
            "| 103335|    48|   3.0|       2402.0|\n",
            "| 103688|    48|   3.0|       3507.0|\n",
            "| 104841|    48|   2.5|        849.0|\n",
            "| 106002|    48|   2.5|       1954.0|\n",
            "| 106072|    48|   2.5|       1955.0|\n",
            "| 106204|    48|   3.0|       6099.0|\n",
            "| 106489|    48|   4.0|       1121.0|\n",
            "| 106696|    48|   3.5|       1851.0|\n",
            "| 107406|    48|   2.5|       2592.0|\n",
            "| 107769|    48|   2.5|       6127.0|\n",
            "| 107953|    48|   2.5|       4072.0|\n",
            "| 108190|    48|   3.0|       1957.0|\n",
            "| 108945|    48|   2.5|       2798.0|\n",
            "| 109487|    48|   3.5|        549.0|\n",
            "| 109578|    48|   3.0|       2799.0|\n",
            "| 109673|    48|   2.5|       3110.0|\n",
            "| 109846|    48|   3.0|       6164.0|\n",
            "| 109848|    48|   2.5|       2800.0|\n",
            "| 109850|    48|   2.5|       4077.0|\n",
            "| 110102|    48|   3.5|       1433.0|\n",
            "| 110127|    48|   3.0|       2801.0|\n",
            "| 110501|    48|   3.0|       4078.0|\n",
            "| 110553|    48|   3.0|       2802.0|\n",
            "| 110591|    48|   2.5|       4079.0|\n",
            "| 110655|    48|   2.5|       4841.0|\n",
            "| 110730|    48|   3.5|       2248.0|\n",
            "| 111362|    48|   3.5|       1029.0|\n",
            "| 111364|    48|   2.5|       2595.0|\n",
            "| 111659|    48|   2.5|       2804.0|\n",
            "| 111759|    48|   4.0|        955.0|\n",
            "| 112175|    48|   3.5|       2410.0|\n",
            "| 112370|    48|   2.5|       3113.0|\n",
            "| 112515|    48|   2.5|       2806.0|\n",
            "| 112623|    48|   3.5|       2411.0|\n",
            "| 112852|    48|   3.5|        655.0|\n",
            "| 113741|    48|   3.0|       4089.0|\n",
            "| 114180|    48|   2.5|       2598.0|\n",
            "| 114935|    48|   3.0|       3115.0|\n",
            "| 115149|    48|   2.5|       2092.0|\n",
            "| 115534|    48|   2.0|       6248.0|\n",
            "| 115617|    48|   3.0|       1191.0|\n",
            "| 115624|    48|   3.0|       6249.0|\n",
            "| 118696|    48|   2.5|       2094.0|\n",
            "+-------+------+------+-------------+\n",
            "\n",
            "+-------+------+\n",
            "|movieId|rating|\n",
            "+-------+------+\n",
            "|  49649|   1.0|\n",
            "|   3262|   3.0|\n",
            "|   5540|   4.0|\n",
            "|   6724|   4.5|\n",
            "|    951|   5.0|\n",
            "|   5690|   3.0|\n",
            "|   2836|   4.5|\n",
            "| 112515|   3.5|\n",
            "|   3471|   5.0|\n",
            "|  76030|   3.5|\n",
            "|    254|   3.0|\n",
            "|  46972|   2.5|\n",
            "|   2000|   3.0|\n",
            "|   4795|   4.0|\n",
            "+-------+------+\n",
            "\n"
          ]
        }
      ],
      "source": [
        "from pyspark.sql.types import StructType,StructField,IntegerType\n",
        "topMovies = []\n",
        "for item in test[0][0]:\n",
        "    topMovies.append(item.movieId)\n",
        "    \n",
        "schema = StructType([StructField(\"movieId_index\",IntegerType(),True)])\n",
        "movies = spark.createDataFrame(topMovies,IntegerType()).toDF(\"movieId_index\")\n",
        "\n",
        "#user's ratings\n",
        "transformed\\\n",
        ".select(['movieId', 'userId', 'rating', 'movieId_index'])\\\n",
        ".filter(col('userId_index')==35)\\\n",
        ".show(100000)\n",
        "\n",
        "#Recommendations for user 20\n",
        "movies\\\n",
        ".join(transformed, on = 'movieId_index', how = 'inner')\\\n",
        ".select(['movieId', 'rating'])\\\n",
        ".drop_duplicates(subset=['movieId'])\\\n",
        ".show(100)\n"
      ]
    }
  ],
  "metadata": {
    "kernelspec": {
      "display_name": "Python 3 (ipykernel)",
      "language": "python",
      "name": "python3"
    },
    "language_info": {
      "codemirror_mode": {
        "name": "ipython",
        "version": 3
      },
      "file_extension": ".py",
      "mimetype": "text/x-python",
      "name": "python",
      "nbconvert_exporter": "python",
      "pygments_lexer": "ipython3",
      "version": "3.10.6"
    },
    "colab": {
      "provenance": []
    }
  },
  "nbformat": 4,
  "nbformat_minor": 5
}